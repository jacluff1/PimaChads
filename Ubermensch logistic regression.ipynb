{
 "cells": [
  {
   "cell_type": "code",
   "execution_count": 24,
   "metadata": {},
   "outputs": [
    {
     "name": "stderr",
     "output_type": "stream",
     "text": [
      "/home/hadoop/anaconda3/lib/python3.7/site-packages/sklearn/linear_model/logistic.py:758: ConvergenceWarning: lbfgs failed to converge. Increase the number of iterations.\n",
      "  \"of iterations.\", ConvergenceWarning)\n"
     ]
    }
   ],
   "source": [
    "import numpy as np\n",
    "import matplotlib.pyplot as plt\n",
    "import pandas as pd\n",
    "%matplotlib inline\n",
    "from sklearn.datasets import load_iris\n",
    "from sklearn.model_selection import train_test_split\n",
    "from sklearn.linear_model import LogisticRegression\n",
    "import sklearn"
   ]
  },
  {
   "cell_type": "code",
   "execution_count": 70,
   "metadata": {},
   "outputs": [],
   "source": [
    "data = pd.read_csv('Main Datasheet with Owner Location Data.csv')"
   ]
  },
  {
   "cell_type": "code",
   "execution_count": 31,
   "metadata": {},
   "outputs": [
    {
     "data": {
      "text/plain": [
       "Index(['Unnamed: 0', 'parcel', 'saledate', 'saleprice', 'recordingdate',\n",
       "       'taxyear', 'stories', 'rooms', 'quality', 'bathfixtur',\n",
       "       ...\n",
       "       'financing_cash', 'financing_other', 'lat', 'lon', 'z', 'landsqft',\n",
       "       'AtResidence', 'InTown', 'OutofTown', 'OutofState'],\n",
       "      dtype='object', length=113)"
      ]
     },
     "execution_count": 31,
     "metadata": {},
     "output_type": "execute_result"
    }
   ],
   "source": [
    "data.columns"
   ]
  },
  {
   "cell_type": "code",
   "execution_count": 71,
   "metadata": {},
   "outputs": [],
   "source": [
    "y = data[['AtResidence','InTown','OutofTown','OutofState']]\n",
    "y = np.array(y).argmax(axis=1)"
   ]
  },
  {
   "cell_type": "code",
   "execution_count": 72,
   "metadata": {},
   "outputs": [],
   "source": [
    "X = data.drop(columns=['parcel','AtResidence','InTown','OutofTown','OutofState','Unnamed: 0','lat','lon'])\n",
    "for i in X.columns:\n",
    "    maxx = max(X[i])\n",
    "    X[i] = X[i].divide(maxx)"
   ]
  },
  {
   "cell_type": "code",
   "execution_count": 73,
   "metadata": {},
   "outputs": [],
   "source": [
    "X_train, X_test, y_train, y_test = train_test_split(X, y, test_size=0.2, random_state=1)\n",
    "\n",
    "X_train, X_val, y_train, y_val = train_test_split(X_train, y_train, test_size=0.2, random_state=1)"
   ]
  },
  {
   "cell_type": "code",
   "execution_count": 74,
   "metadata": {},
   "outputs": [
    {
     "name": "stderr",
     "output_type": "stream",
     "text": [
      "/home/hadoop/anaconda3/lib/python3.7/site-packages/sklearn/linear_model/logistic.py:758: ConvergenceWarning: lbfgs failed to converge. Increase the number of iterations.\n",
      "  \"of iterations.\", ConvergenceWarning)\n"
     ]
    },
    {
     "data": {
      "text/plain": [
       "0.9707969432314411"
      ]
     },
     "execution_count": 74,
     "metadata": {},
     "output_type": "execute_result"
    }
   ],
   "source": [
    "clf = LogisticRegression(random_state=0, solver='lbfgs',multi_class='multinomial').fit(X_train, y_train)\n",
    "clf.score(X_val,y_val)"
   ]
  },
  {
   "cell_type": "code",
   "execution_count": 75,
   "metadata": {},
   "outputs": [
    {
     "data": {
      "text/plain": [
       "0.9691048034934497"
      ]
     },
     "execution_count": 75,
     "metadata": {},
     "output_type": "execute_result"
    }
   ],
   "source": [
    "clf.score(X_test,y_test)"
   ]
  },
  {
   "cell_type": "code",
   "execution_count": 76,
   "metadata": {},
   "outputs": [],
   "source": [
    "#from collections import OrderedDict\n",
    "weights = []\n",
    "for n,i in enumerate(clf.coef_[0]):\n",
    "    weights.append((X.columns[n],clf.coef_[0][n]))"
   ]
  },
  {
   "cell_type": "code",
   "execution_count": 77,
   "metadata": {},
   "outputs": [
    {
     "data": {
      "text/plain": [
       "[('validationdescription_buyer/seller are related parties or corporate entities',\n",
       "  1.9603296494380789),\n",
       " ('saleprice', -1.783744388187212),\n",
       " ('sqft', 1.6716322705743403),\n",
       " ('intendeduse_rental', -1.5611123822115471),\n",
       " ('validationdescription_sale under duress', 1.4057108269253757),\n",
       " ('validationdescription_suspicious sale', 1.3969877440117606),\n",
       " ('validationdescription_sale price missing', 1.2509344832618574),\n",
       " ('intendeduse_primaryres', 1.1792784430742618),\n",
       " ('validationdescription_more than five (5) parcels being sold',\n",
       "  1.1486363375552657),\n",
       " ('validationdescription_property altered since date of sale',\n",
       "  1.1278686491509033),\n",
       " ('saledate', -0.9643685354922034),\n",
       " ('recordingdate', -0.9525791416363428),\n",
       " ('buyersellerrelated_no', 0.9425165403718745),\n",
       " ('validationdescription_good sale', 0.8892911069499962),\n",
       " ('validationdescription_sale to or from a government agency',\n",
       "  0.8453183380749807),\n",
       " ('deed_quit claim deed', 0.7122147678750599),\n",
       " ('stories', -0.6807234714858351),\n",
       " ('roof_2.0', 0.6491947255442202),\n",
       " ('validationdescription_unusable sale which does not fit any other reject codes',\n",
       "  0.6254623335351993),\n",
       " ('partialinterest_yes', 0.5977695637380311),\n",
       " ('taxyear', 0.553862534206546),\n",
       " ('solar_yes', 0.549029282917409),\n",
       " ('intendeduse_unknown', 0.5417563939713066),\n",
       " ('heat_4.0', 0.5275712734740564),\n",
       " ('poolarea', 0.5099562362840482),\n",
       " ('year', 0.5046894821601852),\n",
       " ('personalproperty_no', 0.5046810217423401),\n",
       " ('walls_5.0', -0.5041074044048797),\n",
       " ('bathfixtur', 0.49684955589305474),\n",
       " ('intendeduse_nonprimary', 0.4895410665256525),\n",
       " ('garage_6.0', 0.4822222999931482),\n",
       " ('walls_8.0', 0.4782663937084872),\n",
       " ('heat_9.0', 0.4510913286470705),\n",
       " ('validationdescription_sale involves exchange or trade',\n",
       "  0.45036326074582395),\n",
       " ('financing_other', 0.43341203913678167),\n",
       " ('adjustment', 0.41583088724995804),\n",
       " ('roof_8.0', -0.4137253507215128),\n",
       " ('validationdescription_sale of partial interest', 0.4057673008491553),\n",
       " ('class_6.0', 0.3828968756679454),\n",
       " ('patio_3.0', 0.3800466781124098),\n",
       " ('landsqft', 0.3521943822229593),\n",
       " ('roof_0.0', 0.35145744697313314),\n",
       " ('validationdescription_buyer/seller has an out-of-state address',\n",
       "  0.34333752862887706),\n",
       " ('heat_8.0', -0.3379109668625268),\n",
       " ('cool_9.0', 0.3358121529184739),\n",
       " ('z', -0.3248107803213556),\n",
       " ('condition', -0.3160284010941745),\n",
       " ('roof_6.0', -0.31577639424246134),\n",
       " ('garage_1.0', 0.3126266714845199),\n",
       " ('garagecapa', -0.30035052372706667),\n",
       " ('cool_2.0', 0.29570503751772065),\n",
       " ('buyersellerrelated_yes', -0.2930530190122236),\n",
       " ('deed_other', 0.28110259257762454),\n",
       " ('patio_9.0', 0.26941684324724513),\n",
       " ('quality', 0.261480325703211),\n",
       " ('roof_1.0', 0.2517055621181264),\n",
       " ('heat_0.0', 0.23739902877969474),\n",
       " ('heat_1.0', -0.22706637690376044),\n",
       " ('validationdescription_sale pursuant to a court order', 0.22440698863769287),\n",
       " ('deed_joint tenancy deed', -0.22120065804096883),\n",
       " ('deed_contract or agreement', -0.21772108124275136),\n",
       " ('financing_cash', 0.21605148222286896),\n",
       " ('walls_6.0', 0.20906971088087553),\n",
       " ('class_4.0', 0.20893332823641192),\n",
       " ('actual', -0.1992532271368038),\n",
       " ('walls_4.0', 0.19660934818026501),\n",
       " ('walls_2.0', 0.19424825261627812),\n",
       " ('walls_7.0', 0.18919316048871854),\n",
       " ('pationumbe', 0.17862186256453813),\n",
       " ('roof_4.0', -0.1737206806337175),\n",
       " ('heat_5.0', 0.16966214491099016),\n",
       " ('class_2.0', -0.16500385879174026),\n",
       " ('roof_7.0', 0.16495920963577546),\n",
       " ('heat_7.0', -0.16326029798493175),\n",
       " ('personalproperty_yes', 0.144782499617311),\n",
       " ('class_5.0', 0.1430135409540512),\n",
       " ('roof_3.0', 0.1296374624043896),\n",
       " ('walls_1.0', -0.12471370456477225),\n",
       " ('cool_1.0', 0.11061869568828132),\n",
       " ('validationdescription_sale includes unquantifiable personal property > 5%',\n",
       "  0.10182915788542891),\n",
       " ('solar_no', 0.10043423844224028),\n",
       " ('heat_6.0', -0.10015081007512623),\n",
       " ('class_1.0', 0.09748338824754606),\n",
       " ('deed_warranty deed', 0.09506790019068931),\n",
       " ('cool_0.0', -0.092672364764825),\n",
       " ('heat_3.0', 0.09212819737417693),\n",
       " ('garage_3.0', -0.08423002867494318),\n",
       " ('rooms', 0.07988207442438076),\n",
       " ('validationdescription_correction of previously recorded deed                 ',\n",
       "  0.07261370416707989),\n",
       " ('walls_3.0', 0.06390186802715855),\n",
       " ('garage_9.0', -0.061155421443077576),\n",
       " ('walls_0.0', -0.05300410357248246),\n",
       " ('partialinterest_no', 0.05169395762161551),\n",
       " ('validationdescription_property type/use code are not consistent',\n",
       "  0.04643751680301346),\n",
       " ('validationdescription_split legislative class/assessment ratio',\n",
       "  0.03341428161349602),\n",
       " ('validationdescription_unsecured mobile home', 0.029635562285300756),\n",
       " ('validationdescription_improvements not yet on assessment roll',\n",
       "  0.023364631899272282),\n",
       " ('class_3.0', -0.017859752954561714),\n",
       " ('enhancemen', -0.012062058594193752),\n",
       " ('validationdescription_name/address of buyer or seller is missing',\n",
       "  0.011527398296402975),\n",
       " ('validationdescription_internet sale', 0.006349999895975659),\n",
       " ('roof_5.0', 0.0057315402816871105),\n",
       " ('validationdescription_sale of convenience for nominal consideration',\n",
       "  0.005415415324235691),\n",
       " ('validationdescription_sale includes quantifiable personal property > 5%',\n",
       "  0.004303133399687373),\n",
       " ('validationdescription_trust sale of nominal consideration or convenience',\n",
       "  0.002223800432201284)]"
      ]
     },
     "execution_count": 77,
     "metadata": {},
     "output_type": "execute_result"
    }
   ],
   "source": [
    "sorted(weights,key=lambda x:np.abs(x[1]), reverse = True)"
   ]
  },
  {
   "cell_type": "code",
   "execution_count": null,
   "metadata": {},
   "outputs": [],
   "source": []
  }
 ],
 "metadata": {
  "kernelspec": {
   "display_name": "Python 3",
   "language": "python",
   "name": "python3"
  },
  "language_info": {
   "codemirror_mode": {
    "name": "ipython",
    "version": 3
   },
   "file_extension": ".py",
   "mimetype": "text/x-python",
   "name": "python",
   "nbconvert_exporter": "python",
   "pygments_lexer": "ipython3",
   "version": "3.7.1"
  }
 },
 "nbformat": 4,
 "nbformat_minor": 2
}
